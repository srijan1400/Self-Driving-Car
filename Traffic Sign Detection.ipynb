{
 "cells": [
  {
   "cell_type": "code",
   "execution_count": 25,
   "metadata": {},
   "outputs": [],
   "source": [
    "import cv2\n",
    "import pandas as pd\n",
    "import numpy as np\n",
    "import tensorflow as tf\n",
    "import os\n",
    "from PIL import Image\n",
    "import matplotlib.pyplot as plt\n",
    "import sklearn\n",
    "from tensorflow.keras.layers import Conv2D, Dropout, Dense, Flatten, MaxPool2D\n",
    "from tensorflow.keras.models import Sequential"
   ]
  },
  {
   "cell_type": "code",
   "execution_count": 2,
   "metadata": {},
   "outputs": [
    {
     "data": {
      "text/plain": [
       "'C:\\\\Users\\\\Srija\\\\OneDrive\\\\Desktop\\\\traffic_data'"
      ]
     },
     "execution_count": 2,
     "metadata": {},
     "output_type": "execute_result"
    }
   ],
   "source": [
    "os.getcwd()"
   ]
  },
  {
   "cell_type": "code",
   "execution_count": 6,
   "metadata": {},
   "outputs": [
    {
     "name": "stdout",
     "output_type": "stream",
     "text": [
      "Done\n"
     ]
    }
   ],
   "source": [
    "imgs_path = \"C:\\\\Users\\\\Srija\\\\OneDrive\\\\Desktop\\\\traffic_data\\Train\"\n",
    "data_list = []\n",
    "labels_list = []\n",
    "classes_list = 43\n",
    "for i in range(classes_list):\n",
    "    i_path = os.path.join(imgs_path, str(i)) #0-42\n",
    "    for img in os.listdir(i_path):\n",
    "        im = Image.open(i_path +'/'+ img)\n",
    "        im = im.resize((30,30))\n",
    "        im = np.array(im)\n",
    "        data_list.append(im)\n",
    "        labels_list.append(i)\n",
    "data = np.array(data_list)\n",
    "labels = np.array(labels_list)\n",
    "print(\"Done\")"
   ]
  },
  {
   "cell_type": "code",
   "execution_count": 7,
   "metadata": {},
   "outputs": [
    {
     "data": {
      "text/plain": [
       "(39209, 30, 30, 3)"
      ]
     },
     "execution_count": 7,
     "metadata": {},
     "output_type": "execute_result"
    }
   ],
   "source": [
    "data.shape"
   ]
  },
  {
   "cell_type": "code",
   "execution_count": 10,
   "metadata": {},
   "outputs": [
    {
     "data": {
      "image/png": "[encoded data removed]",
      "text/plain": [
       "<Figure size 432x288 with 1 Axes>"
      ]
     },
     "metadata": {
      "needs_background": "light"
     },
     "output_type": "display_data"
    }
   ],
   "source": [
    "path = r\"C:\\\\Users\\\\Srija\\\\OneDrive\\\\Desktop\\\\traffic_data\\Train\\0\\00000_00004_00010.png\"\n",
    "img = Image.open(path)\n",
    "img = img.resize((30, 30))\n",
    "sr = np.array(img) \n",
    "plt.imshow(img)\n",
    "plt.show()"
   ]
  },
  {
   "cell_type": "code",
   "execution_count": 14,
   "metadata": {},
   "outputs": [],
   "source": [
    "from sklearn.model_selection import train_test_split\n",
    "x_train, x_test, y_train, y_test = train_test_split(data, labels, test_size = 0.1, random_state = 10)"
   ]
  },
  {
   "cell_type": "code",
   "execution_count": 15,
   "metadata": {},
   "outputs": [
    {
     "data": {
      "text/plain": [
       "(35288, 30, 30, 3)"
      ]
     },
     "execution_count": 15,
     "metadata": {},
     "output_type": "execute_result"
    }
   ],
   "source": [
    "x_train.shape"
   ]
  },
  {
   "cell_type": "code",
   "execution_count": 16,
   "metadata": {},
   "outputs": [
    {
     "data": {
      "text/plain": [
       "(35288,)"
      ]
     },
     "execution_count": 16,
     "metadata": {},
     "output_type": "execute_result"
    }
   ],
   "source": [
    "y_train.shape"
   ]
  },
  {
   "cell_type": "code",
   "execution_count": 17,
   "metadata": {},
   "outputs": [],
   "source": [
    "y_train = tf.one_hot(y_train, 43)\n",
    "y_test = tf.one_hot(y_test, 43)"
   ]
  },
  {
   "cell_type": "code",
   "execution_count": 18,
   "metadata": {},
   "outputs": [
    {
     "data": {
      "text/plain": [
       "<tf.Tensor: shape=(35288, 43), dtype=float32, numpy=\n",
       "array([[0., 0., 0., ..., 0., 0., 0.],\n",
       "       [0., 0., 0., ..., 0., 0., 0.],\n",
       "       [0., 0., 0., ..., 0., 0., 0.],\n",
       "       ...,\n",
       "       [0., 0., 0., ..., 0., 0., 0.],\n",
       "       [0., 0., 0., ..., 0., 0., 0.],\n",
       "       [0., 0., 0., ..., 0., 0., 0.]], dtype=float32)>"
      ]
     },
     "execution_count": 18,
     "metadata": {},
     "output_type": "execute_result"
    }
   ],
   "source": [
    "y_train"
   ]
  },
  {
   "cell_type": "code",
   "execution_count": 28,
   "metadata": {},
   "outputs": [],
   "source": [
    "model = Sequential()\n",
    "\n",
    "model.add(Conv2D(filters=32, kernel_size=(5,5), activation=\"relu\", input_shape= x_train.shape[1:]))\n",
    "model.add((Conv2D(filters=32, kernel_size=(5,5), activation=\"relu\")))\n",
    "model.add(MaxPool2D(pool_size=(2,2)))\n",
    "model.add(Dropout(rate=0.25))\n",
    "model.add((Conv2D(filters=64,kernel_size=(3,3),activation=\"relu\"))) \n",
    "model.add((MaxPool2D(pool_size=(2,2))))\n",
    "model.add(Dropout(rate=0.25))\n",
    "model.add(Flatten()) \n",
    "model.add(Dense(256, activation=\"relu\"))\n",
    "model.add(Dropout(rate=0.40))\n",
    "model.add(Dense(43, activation=\"softmax\"))"
   ]
  },
  {
   "cell_type": "code",
   "execution_count": 29,
   "metadata": {},
   "outputs": [
    {
     "name": "stdout",
     "output_type": "stream",
     "text": [
      "Model: \"sequential_1\"\n",
      "_________________________________________________________________\n",
      "Layer (type)                 Output Shape              Param #   \n",
      "=================================================================\n",
      "conv2d_1 (Conv2D)            (None, 26, 26, 32)        2432      \n",
      "_________________________________________________________________\n",
      "conv2d_2 (Conv2D)            (None, 22, 22, 32)        25632     \n",
      "_________________________________________________________________\n",
      "max_pooling2d (MaxPooling2D) (None, 11, 11, 32)        0         \n",
      "_________________________________________________________________\n",
      "dropout (Dropout)            (None, 11, 11, 32)        0         \n",
      "_________________________________________________________________\n",
      "conv2d_3 (Conv2D)            (None, 9, 9, 64)          18496     \n",
      "_________________________________________________________________\n",
      "max_pooling2d_1 (MaxPooling2 (None, 4, 4, 64)          0         \n",
      "_________________________________________________________________\n",
      "dropout_1 (Dropout)          (None, 4, 4, 64)          0         \n",
      "_________________________________________________________________\n",
      "flatten (Flatten)            (None, 1024)              0         \n",
      "_________________________________________________________________\n",
      "dense (Dense)                (None, 256)               262400    \n",
      "_________________________________________________________________\n",
      "dropout_2 (Dropout)          (None, 256)               0         \n",
      "_________________________________________________________________\n",
      "dense_1 (Dense)              (None, 43)                11051     \n",
      "=================================================================\n",
      "Total params: 320,011\n",
      "Trainable params: 320,011\n",
      "Non-trainable params: 0\n",
      "_________________________________________________________________\n"
     ]
    }
   ],
   "source": [
    "model.summary()"
   ]
  },
  {
   "cell_type": "code",
   "execution_count": 31,
   "metadata": {},
   "outputs": [],
   "source": [
    "model.compile(optimizer = \"adam\", loss = \"categorical_crossentropy\", metrics = [\"accuracy\"])"
   ]
  },
  {
   "cell_type": "code",
   "execution_count": 32,
   "metadata": {},
   "outputs": [
    {
     "name": "stdout",
     "output_type": "stream",
     "text": [
      "Epoch 1/20\n",
      "552/552 [==============================] - 67s 117ms/step - loss: 3.7795 - accuracy: 0.0553 - val_loss: 3.4846 - val_accuracy: 0.0571\n",
      "Epoch 2/20\n",
      "552/552 [==============================] - 60s 109ms/step - loss: 3.4968 - accuracy: 0.0556 - val_loss: 3.4850 - val_accuracy: 0.0571\n",
      "Epoch 3/20\n",
      "552/552 [==============================] - 61s 110ms/step - loss: 3.4951 - accuracy: 0.0561 - val_loss: 3.4839 - val_accuracy: 0.0571\n",
      "Epoch 4/20\n",
      "552/552 [==============================] - 60s 110ms/step - loss: 3.4932 - accuracy: 0.0559 - val_loss: 3.4855 - val_accuracy: 0.0612\n",
      "Epoch 5/20\n",
      "552/552 [==============================] - 61s 110ms/step - loss: 3.4926 - accuracy: 0.0566 - val_loss: 3.4849 - val_accuracy: 0.0530\n",
      "Epoch 6/20\n",
      "552/552 [==============================] - 61s 110ms/step - loss: 3.4911 - accuracy: 0.0559 - val_loss: 3.4845 - val_accuracy: 0.0538\n",
      "Epoch 7/20\n",
      "552/552 [==============================] - 61s 110ms/step - loss: 3.4905 - accuracy: 0.0547 - val_loss: 3.4840 - val_accuracy: 0.0538\n",
      "Epoch 8/20\n",
      "552/552 [==============================] - 61s 110ms/step - loss: 3.4905 - accuracy: 0.0551 - val_loss: 3.4844 - val_accuracy: 0.0538\n",
      "Epoch 9/20\n",
      "552/552 [==============================] - 61s 110ms/step - loss: 3.4905 - accuracy: 0.0554 - val_loss: 3.4842 - val_accuracy: 0.0571\n",
      "Epoch 10/20\n",
      "552/552 [==============================] - 61s 111ms/step - loss: 3.4896 - accuracy: 0.0558 - val_loss: 3.4838 - val_accuracy: 0.0538\n",
      "Epoch 11/20\n",
      "552/552 [==============================] - 59s 108ms/step - loss: 3.4893 - accuracy: 0.0566 - val_loss: 3.4840 - val_accuracy: 0.0538\n",
      "Epoch 12/20\n",
      "552/552 [==============================] - 60s 109ms/step - loss: 3.4891 - accuracy: 0.0557 - val_loss: 3.4839 - val_accuracy: 0.0571\n",
      "Epoch 13/20\n",
      "552/552 [==============================] - 61s 111ms/step - loss: 3.4898 - accuracy: 0.0567 - val_loss: 3.4847 - val_accuracy: 0.0571\n",
      "Epoch 14/20\n",
      "552/552 [==============================] - 62s 111ms/step - loss: 3.4894 - accuracy: 0.0549 - val_loss: 3.4852 - val_accuracy: 0.0571\n",
      "Epoch 15/20\n",
      "552/552 [==============================] - 62s 112ms/step - loss: 3.4893 - accuracy: 0.0551 - val_loss: 3.4844 - val_accuracy: 0.0538\n",
      "Epoch 16/20\n",
      "552/552 [==============================] - 62s 112ms/step - loss: 3.4898 - accuracy: 0.0570 - val_loss: 3.4838 - val_accuracy: 0.0530\n",
      "Epoch 17/20\n",
      "552/552 [==============================] - 62s 113ms/step - loss: 3.4892 - accuracy: 0.0559 - val_loss: 3.4849 - val_accuracy: 0.0538\n",
      "Epoch 18/20\n",
      "552/552 [==============================] - 63s 114ms/step - loss: 3.4890 - accuracy: 0.0552 - val_loss: 3.4838 - val_accuracy: 0.0538\n",
      "Epoch 19/20\n",
      "552/552 [==============================] - 62s 113ms/step - loss: 3.4879 - accuracy: 0.0580 - val_loss: 3.4837 - val_accuracy: 0.0612\n",
      "Epoch 20/20\n",
      "552/552 [==============================] - 63s 115ms/step - loss: 3.4888 - accuracy: 0.0564 - val_loss: 3.4843 - val_accuracy: 0.0530\n"
     ]
    },
    {
     "data": {
      "text/plain": [
       "<tensorflow.python.keras.callbacks.History at 0x2b13b3dba60>"
      ]
     },
     "execution_count": 32,
     "metadata": {},
     "output_type": "execute_result"
    }
   ],
   "source": [
    "model.fit(x_train, y_train, epochs = 20, batch_size = 64, validation_data = (x_test, y_test), verbose = 1)"
   ]
  },
  {
   "cell_type": "code",
   "execution_count": null,
   "metadata": {},
   "outputs": [],
   "source": []
  }
 ],
 "metadata": {
  "kernelspec": {
   "display_name": "Python 3",
   "language": "python",
   "name": "python3"
  },
  "language_info": {
   "codemirror_mode": {
    "name": "ipython",
    "version": 3
   },
   "file_extension": ".py",
   "mimetype": "text/x-python",
   "name": "python",
   "nbconvert_exporter": "python",
   "pygments_lexer": "ipython3",
   "version": "3.8.5"
  }
 },
 "nbformat": 4,
 "nbformat_minor": 4
}
